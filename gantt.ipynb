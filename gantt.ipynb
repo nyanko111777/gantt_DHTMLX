{
 "cells": [
  {
   "cell_type": "code",
   "execution_count": 36,
   "id": "5dce3db4",
   "metadata": {},
   "outputs": [],
   "source": [
    "import Gantt_control\n",
    "self = Gantt_control.gantt()"
   ]
  },
  {
   "cell_type": "code",
   "execution_count": 32,
   "id": "74f24022",
   "metadata": {},
   "outputs": [],
   "source": [
    "self.save_data(\"default\")"
   ]
  },
  {
   "cell_type": "markdown",
   "id": "8dbd90c6",
   "metadata": {},
   "source": [
    "ガントへデータからエクセルへ"
   ]
  },
  {
   "cell_type": "code",
   "execution_count": 40,
   "id": "b71e68e9",
   "metadata": {},
   "outputs": [],
   "source": [
    "self.db_to_gantt(\"default\")"
   ]
  },
  {
   "cell_type": "markdown",
   "id": "c6798f27",
   "metadata": {},
   "source": [
    "df_taskを編集"
   ]
  },
  {
   "cell_type": "code",
   "execution_count": 118,
   "id": "c6d81ad2",
   "metadata": {},
   "outputs": [],
   "source": [
    "! code ."
   ]
  },
  {
   "cell_type": "markdown",
   "id": "8384fa63",
   "metadata": {},
   "source": [
    "編集結果を取得"
   ]
  },
  {
   "cell_type": "code",
   "execution_count": 146,
   "id": "939d0e03",
   "metadata": {},
   "outputs": [],
   "source": [
    "# df_task_edit = pd.read_csv(\"df_task.csv\")\n"
   ]
  },
  {
   "cell_type": "markdown",
   "id": "2156f093",
   "metadata": {},
   "source": [
    "データを戻す"
   ]
  },
  {
   "cell_type": "code",
   "execution_count": 147,
   "id": "96aaab91",
   "metadata": {},
   "outputs": [],
   "source": []
  },
  {
   "cell_type": "markdown",
   "id": "4141ce5c",
   "metadata": {},
   "source": [
    "完了したら閉じる"
   ]
  },
  {
   "cell_type": "code",
   "execution_count": 35,
   "id": "0be89484",
   "metadata": {},
   "outputs": [],
   "source": []
  },
  {
   "cell_type": "markdown",
   "id": "9d6bf3fb",
   "metadata": {},
   "source": [
    "消す"
   ]
  },
  {
   "cell_type": "code",
   "execution_count": 115,
   "id": "fb7f7a18",
   "metadata": {},
   "outputs": [],
   "source": []
  },
  {
   "cell_type": "code",
   "execution_count": null,
   "id": "6413cfb4",
   "metadata": {},
   "outputs": [],
   "source": []
  }
 ],
 "metadata": {
  "jupytext": {
   "encoding": "# -*- coding: utf-8 -*-",
   "text_representation": {
    "extension": ".py",
    "format_name": "light",
    "format_version": "1.5",
    "jupytext_version": "1.13.1"
   }
  },
  "kernelspec": {
   "display_name": "Python 3 (ipykernel)",
   "language": "python",
   "name": "python3"
  },
  "language_info": {
   "codemirror_mode": {
    "name": "ipython",
    "version": 3
   },
   "file_extension": ".py",
   "mimetype": "text/x-python",
   "name": "python",
   "nbconvert_exporter": "python",
   "pygments_lexer": "ipython3",
   "version": "3.9.5"
  },
  "toc": {
   "base_numbering": 1,
   "nav_menu": {},
   "number_sections": true,
   "sideBar": true,
   "skip_h1_title": false,
   "title_cell": "Table of Contents",
   "title_sidebar": "Contents",
   "toc_cell": false,
   "toc_position": {},
   "toc_section_display": true,
   "toc_window_display": false
  }
 },
 "nbformat": 4,
 "nbformat_minor": 5
}
