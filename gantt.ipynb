{
 "cells": [
  {
   "cell_type": "code",
   "execution_count": 1,
   "id": "6e912d39",
   "metadata": {},
   "outputs": [],
   "source": [
    "import local_strage\n",
    "import json\n",
    "import pandas as pd\n",
    "from selenium import webdriver"
   ]
  },
  {
   "cell_type": "code",
   "execution_count": 136,
   "id": "3907403e",
   "metadata": {},
   "outputs": [],
   "source": [
    "driver = webdriver.Chrome('chromedriver')\n",
    "driver.get('http://localhost:1337/')\n",
    "storage = local_strage.LocalStorage(driver)"
   ]
  },
  {
   "cell_type": "code",
   "execution_count": 144,
   "id": "74f24022",
   "metadata": {},
   "outputs": [],
   "source": [
    "name = \"room_moyo_kae\""
   ]
  },
  {
   "cell_type": "markdown",
   "id": "8dbd90c6",
   "metadata": {},
   "source": [
    "ガントへデータからエクセルへ"
   ]
  },
  {
   "cell_type": "code",
   "execution_count": 148,
   "id": "b71e68e9",
   "metadata": {},
   "outputs": [],
   "source": [
    "task = storage[\"task\"]\n",
    "task =json.loads(task)\n",
    "df_task = pd.DataFrame(task)\n",
    "df_dic = df_task[[\"id\"]].copy()\n",
    "df_dic[\"sin_id\"] = f\"{name}_\" + (df_dic.index + 1).astype(\"str\")\n",
    "df_dic = df_dic.astype(\"str\")\n",
    "dic = dict(df_dic.set_index(\"id\")[\"sin_id\"])\n",
    "df_task = df_task.astype(\"str\")\n",
    "df_task[\"id\"] = df_task[\"id\"].map(dic)\n",
    "df_task[\"parent\"] = df_task[\"parent\"].map(dic)\n",
    "df_task.to_csv(f\"data/{name}.csv\",index=False)\n",
    "df_task.to_excel(f\"data/{name}.xlsx\",index=False)"
   ]
  },
  {
   "cell_type": "markdown",
   "id": "c6798f27",
   "metadata": {},
   "source": [
    "df_taskを編集"
   ]
  },
  {
   "cell_type": "code",
   "execution_count": 118,
   "id": "c6d81ad2",
   "metadata": {},
   "outputs": [],
   "source": [
    "! code ."
   ]
  },
  {
   "cell_type": "markdown",
   "id": "8384fa63",
   "metadata": {},
   "source": [
    "編集結果を取得"
   ]
  },
  {
   "cell_type": "code",
   "execution_count": 146,
   "id": "939d0e03",
   "metadata": {},
   "outputs": [],
   "source": [
    "# df_task_edit = pd.read_csv(\"df_task.csv\")\n",
    "df_table = pd.read_excel(f\"data/{name}.xlsx\")\n",
    "df_table[\"kind_task\"] = df_table[\"kind_task\"].astype(\"str\")"
   ]
  },
  {
   "cell_type": "markdown",
   "id": "2156f093",
   "metadata": {},
   "source": [
    "データを戻す"
   ]
  },
  {
   "cell_type": "code",
   "execution_count": 147,
   "id": "96aaab91",
   "metadata": {},
   "outputs": [],
   "source": [
    "out_json = df_table.to_json(orient='records')\n",
    "storage.set(\"task\", out_json)\n",
    "driver.refresh()"
   ]
  },
  {
   "cell_type": "markdown",
   "id": "4141ce5c",
   "metadata": {},
   "source": [
    "完了したら閉じる"
   ]
  },
  {
   "cell_type": "code",
   "execution_count": 135,
   "id": "0be89484",
   "metadata": {},
   "outputs": [],
   "source": [
    "driver.quit()"
   ]
  },
  {
   "cell_type": "markdown",
   "id": "9d6bf3fb",
   "metadata": {},
   "source": [
    "消す"
   ]
  },
  {
   "cell_type": "code",
   "execution_count": 115,
   "id": "fb7f7a18",
   "metadata": {},
   "outputs": [],
   "source": [
    "storage.clear()"
   ]
  },
  {
   "cell_type": "code",
   "execution_count": null,
   "id": "6413cfb4",
   "metadata": {},
   "outputs": [],
   "source": []
  }
 ],
 "metadata": {
  "jupytext": {
   "encoding": "# -*- coding: utf-8 -*-",
   "text_representation": {
    "extension": ".py",
    "format_name": "light",
    "format_version": "1.5",
    "jupytext_version": "1.13.1"
   }
  },
  "kernelspec": {
   "display_name": "Python 3 (ipykernel)",
   "language": "python",
   "name": "python3"
  },
  "language_info": {
   "codemirror_mode": {
    "name": "ipython",
    "version": 3
   },
   "file_extension": ".py",
   "mimetype": "text/x-python",
   "name": "python",
   "nbconvert_exporter": "python",
   "pygments_lexer": "ipython3",
   "version": "3.9.5"
  },
  "toc": {
   "base_numbering": 1,
   "nav_menu": {},
   "number_sections": true,
   "sideBar": true,
   "skip_h1_title": false,
   "title_cell": "Table of Contents",
   "title_sidebar": "Contents",
   "toc_cell": false,
   "toc_position": {},
   "toc_section_display": true,
   "toc_window_display": false
  }
 },
 "nbformat": 4,
 "nbformat_minor": 5
}
