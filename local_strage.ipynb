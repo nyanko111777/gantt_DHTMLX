{
 "cells": [
  {
   "cell_type": "code",
   "execution_count": null,
   "id": "7e35597a",
   "metadata": {},
   "outputs": [],
   "source": [
    "class LocalStorage:\n",
    "\n",
    "    def __init__(self, driver) :\n",
    "        self.driver = driver\n",
    "\n",
    "    def __len__(self):\n",
    "        return self.driver.execute_script(\"return window.localStorage.length;\")\n",
    "\n",
    "    def items() :\n",
    "        return self.driver.execute_script( \\\n",
    "            \"var ls = window.localStorage, items = {}; \" \\\n",
    "            \"for (var i = 0, k; i < ls.length; ++i) \" \\\n",
    "            \"  items[k = ls.key(i)] = ls.getItem(k); \" \\\n",
    "            \"return items; \")\n",
    "\n",
    "    def keys() :\n",
    "        return self.driver.execute_script( \\\n",
    "            \"var ls = window.localStorage, keys = []; \" \\\n",
    "            \"for (var i = 0; i < ls.length; ++i) \" \\\n",
    "            \"  keys[i] = ls.key(i); \" \\\n",
    "            \"return keys; \")\n",
    "\n",
    "    def get(self, key):\n",
    "        return self.driver.execute_script(\"return window.localStorage.getItem(arguments[0]);\", key)\n",
    "\n",
    "    def set(self, key, value):\n",
    "        self.driver.execute_script(\"window.localStorage.setItem(arguments[0], arguments[1]);\", key, value)\n",
    "\n",
    "    def has(self, key):\n",
    "        return key in self.keys()\n",
    "\n",
    "    def remove(self, key):\n",
    "        self.driver.execute_script(\"window.localStorage.removeItem(arguments[0]);\", key)\n",
    "\n",
    "    def clear(self):\n",
    "        self.driver.execute_script(\"window.localStorage.clear();\")\n",
    "\n",
    "    def __getitem__(self, key) :\n",
    "        value = self.get(key)\n",
    "        if value is None :\n",
    "          raise KeyError(key)\n",
    "        return value\n",
    "\n",
    "    def __setitem__(self, key, value):\n",
    "        self.set(key, value)\n",
    "\n",
    "    def __contains__(self, key):\n",
    "        return key in self.keys()\n",
    "\n",
    "    def __iter__(self):\n",
    "        return self.items().__iter__()\n",
    "\n",
    "    def __repr__(self):\n",
    "        return self.items().__str__()"
   ]
  }
 ],
 "metadata": {
  "jupytext": {
   "text_representation": {
    "extension": ".py",
    "format_name": "light",
    "format_version": "1.5",
    "jupytext_version": "1.13.1"
   }
  },
  "kernelspec": {
   "display_name": "Python 3 (ipykernel)",
   "language": "python",
   "name": "python3"
  },
  "language_info": {
   "codemirror_mode": {
    "name": "ipython",
    "version": 3
   },
   "file_extension": ".py",
   "mimetype": "text/x-python",
   "name": "python",
   "nbconvert_exporter": "python",
   "pygments_lexer": "ipython3",
   "version": "3.9.5"
  },
  "toc": {
   "base_numbering": 1,
   "nav_menu": {},
   "number_sections": true,
   "sideBar": true,
   "skip_h1_title": false,
   "title_cell": "Table of Contents",
   "title_sidebar": "Contents",
   "toc_cell": false,
   "toc_position": {},
   "toc_section_display": true,
   "toc_window_display": false
  }
 },
 "nbformat": 4,
 "nbformat_minor": 5
}
